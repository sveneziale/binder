{
 "cells": [
  {
   "cell_type": "markdown",
   "metadata": {
    "id": "UEyhpgHx72s2"
   },
   "source": [
    "## Supervised learning example\n",
    "\n",
    "In this notebook we explore a classical machine learning approach to a classification problem using a supervised learning approach and an algorithm called [Support Vector Machine](https://en.wikipedia.org/wiki/Support_vector_machine). We will use the library [scikit-learn](https://scikit-learn.org/stable/).\n",
    "\n",
    "In this example we will use the `iris dataset` ([link to the dataset card](https://scikit-learn.org/stable/auto_examples/datasets/plot_iris_dataset.html)). \n",
    "This dataset is already included in the scikit-learn library, so we do not need to do any preprocessing."
   ]
  },
  {
   "cell_type": "code",
   "execution_count": null,
   "metadata": {
    "id": "eH_qWnPV72s3"
   },
   "outputs": [],
   "source": [
    "from sklearn import datasets\n",
    " \n",
    "# Import the dataset\n",
    "iris = datasets.load_iris()"
   ]
  },
  {
   "cell_type": "markdown",
   "metadata": {
    "id": "FvL-K1Vt72s5"
   },
   "source": [
    "Let us have a look at the shape of the dataset."
   ]
  },
  {
   "cell_type": "code",
   "execution_count": null,
   "metadata": {
    "id": "xpALqQMC72s5",
    "outputId": "01460ac7-085b-463c-d7cb-7f2a41d3a636"
   },
   "outputs": [],
   "source": [
    "n_data_points = len(iris['data'])\n",
    "n_features = len(iris['feature_names'])\n",
    "feature_names = iris['feature_names']\n",
    "targets = iris['target_names']\n",
    "print(f'The dataset has {n_data_points} datapoints')\n",
    "print(f'The data has {n_features} features, they are {feature_names}')\n",
    "print(f'The data can have targets {targets}')"
   ]
  },
  {
   "cell_type": "markdown",
   "metadata": {
    "id": "iKhfeFQb72s7"
   },
   "source": [
    "Consider only two features (sepal length and sepal width), so that we can plot all the datapoints in the plane."
   ]
  },
  {
   "cell_type": "code",
   "execution_count": null,
   "metadata": {
    "id": "rGiKS12J72s7"
   },
   "outputs": [],
   "source": [
    "# Take the first two features. We could avoid this by using a two-dim dataset\n",
    "X = iris.data[:, :2]\n",
    "\n",
    "# Define the labels\n",
    "y = iris.target"
   ]
  },
  {
   "cell_type": "markdown",
   "metadata": {
    "id": "2rJuI7om72s8"
   },
   "source": [
    "Let us define some SVM models with different kernels: different kernels will determine which shape the decision boundaries between different classes can take. They take various parameters, but all of them take the SVM regularization parameter C that determines how 'strict' or 'relaxed' the model is with respect to outliers."
   ]
  },
  {
   "cell_type": "code",
   "execution_count": null,
   "metadata": {
    "id": "XOsBpdjo72s8"
   },
   "outputs": [],
   "source": [
    "from sklearn import svm\n",
    "\n",
    "# We create an instance of SVM and fit out data. We do not scale our data since we want to plot the support vectors\n",
    "C = 1.0  # This is the SVM regularization parameter\n",
    "models = {\n",
    "    'Linear': svm.SVC(kernel=\"linear\", C=C),\n",
    "    'RBF': svm.SVC(kernel=\"rbf\", gamma=0.7, C=C),\n",
    "    'Polynomial': svm.SVC(kernel=\"poly\", degree=3, gamma=\"auto\", C=C),\n",
    "}"
   ]
  },
  {
   "cell_type": "markdown",
   "metadata": {
    "id": "iWHrDgzM72s9"
   },
   "source": [
    "Let us divide the data into training and testing, we shuffle the data before splitting."
   ]
  },
  {
   "cell_type": "code",
   "execution_count": null,
   "metadata": {
    "id": "O_oYZ62672s-"
   },
   "outputs": [],
   "source": [
    "from sklearn.model_selection import train_test_split\n",
    "X_train, X_test, y_train, y_test = train_test_split(X, y, test_size=0.2, shuffle=True)"
   ]
  },
  {
   "cell_type": "markdown",
   "metadata": {
    "id": "eDSvcojU72s-"
   },
   "source": [
    "Fit all models on training and compute their accuracy on testing."
   ]
  },
  {
   "cell_type": "code",
   "execution_count": null,
   "metadata": {
    "id": "_PjJ-21J72s_",
    "outputId": "318de931-62d0-4e33-b715-c0592433094e"
   },
   "outputs": [],
   "source": [
    "from sklearn.metrics import accuracy_score\n",
    "\n",
    "for m in models:\n",
    "    # Fit the model\n",
    "    models[m].fit(X_train, y_train)\n",
    "    predictions = models[m].predict(X_test)\n",
    "    print(f'The accuracy for the {m} model is ', accuracy_score(y_test, predictions))"
   ]
  },
  {
   "cell_type": "markdown",
   "metadata": {},
   "source": [
    "Accuracy is not the best metric, so we visualise how well the model is doing with some confusion matrices."
   ]
  },
  {
   "cell_type": "code",
   "execution_count": null,
   "metadata": {},
   "outputs": [],
   "source": [
    "from sklearn.metrics import confusion_matrix, ConfusionMatrixDisplay\n",
    "import matplotlib.pyplot as plt\n",
    "\n",
    "fig, sub = plt.subplots(1, 3, figsize=(15,5))\n",
    "\n",
    "# Title for the plots\n",
    "titles = (\n",
    "    \"SVC with linear kernel\",\n",
    "    \"SVC with RBF kernel\",\n",
    "    \"SVC with polynomial (degree 3) kernel\",\n",
    ")\n",
    "\n",
    "for clf, title, ax in zip(models, titles, sub.flatten()):\n",
    "\n",
    "    cm = confusion_matrix(y_test, models[clf].predict(X_test))\n",
    "    cm_display = ConfusionMatrixDisplay(confusion_matrix = cm, display_labels = list(range(3)))\n",
    "    cm_display.plot(ax=ax)\n",
    "    ax.set_xticks(())\n",
    "    ax.set_yticks(())\n",
    "    ax.set_title(title)\n",
    "\n",
    "plt.show()"
   ]
  },
  {
   "cell_type": "markdown",
   "metadata": {
    "id": "vtfExZPc72s_"
   },
   "source": [
    "Plotting different decision boundaries"
   ]
  },
  {
   "cell_type": "code",
   "execution_count": null,
   "metadata": {
    "id": "iOjrveCF72tA",
    "outputId": "480d0483-455a-4e78-ddcb-ad7e3303494b"
   },
   "outputs": [],
   "source": [
    "from sklearn.inspection import DecisionBoundaryDisplay\n",
    "\n",
    "# Fit all models to the data\n",
    "models_fitted = (clf.fit(X_train, y_train) for clf in models.values())\n",
    "\n",
    "# Title for the plots\n",
    "titles = (\n",
    "    \"SVC with linear kernel\",\n",
    "    \"SVC with RBF kernel\",\n",
    "    \"SVC with polynomial (degree 3) kernel\",\n",
    ")\n",
    "\n",
    "# Set-up 1x3 grid for plotting.\n",
    "fig, sub = plt.subplots(1, 3, figsize=(15,5))\n",
    "X0, X1 = X[:, 0], X[:, 1]\n",
    "\n",
    "# Just some boring plotting code\n",
    "for clf, title, ax in zip(models_fitted, titles, sub.flatten()):\n",
    "    disp = DecisionBoundaryDisplay.from_estimator(\n",
    "        clf,\n",
    "        X,\n",
    "        response_method=\"predict\",\n",
    "        cmap=plt.cm.coolwarm,\n",
    "        alpha=0.8,\n",
    "        ax=ax,\n",
    "        xlabel=iris.feature_names[0],\n",
    "        ylabel=iris.feature_names[1],\n",
    "    )\n",
    "    ax.scatter(X0, X1, c=y, cmap=plt.cm.coolwarm, s=20, edgecolors=\"k\")\n",
    "    ax.set_xticks(())\n",
    "    ax.set_yticks(())\n",
    "    ax.set_title(title)\n",
    "\n",
    "plt.show()"
   ]
  },
  {
   "cell_type": "markdown",
   "metadata": {},
   "source": [
    "### Things to try:\n",
    "- What would the accuracy have been if we were testing on the training set rather than the testing set? What would the confusion matrices look like?\n",
    "- How does the accuracy on testing change as we increase/decrease the proportion of data used for training?\n",
    "- We have used the first two columns of the dataset. What happens if we use the last two? Or any other two?\n",
    "- Does playing with the regularization parameter C change the outcome?"
   ]
  },
  {
   "cell_type": "code",
   "execution_count": null,
   "metadata": {},
   "outputs": [],
   "source": []
  }
 ],
 "metadata": {
  "colab": {
   "provenance": []
  },
  "kernelspec": {
   "display_name": "sagepytorch",
   "language": "python",
   "name": "python3"
  },
  "language_info": {
   "codemirror_mode": {
    "name": "ipython",
    "version": 3
   },
   "file_extension": ".py",
   "mimetype": "text/x-python",
   "name": "python",
   "nbconvert_exporter": "python",
   "pygments_lexer": "ipython3",
   "version": "3.10.8"
  }
 },
 "nbformat": 4,
 "nbformat_minor": 0
}
